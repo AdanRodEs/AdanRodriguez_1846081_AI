{
  "nbformat": 4,
  "nbformat_minor": 0,
  "metadata": {
    "colab": {
      "provenance": [],
      "collapsed_sections": []
    },
    "kernelspec": {
      "name": "python3",
      "display_name": "Python 3"
    },
    "language_info": {
      "name": "python"
    }
  },
  "cells": [
    {
      "cell_type": "markdown",
      "source": [
        "# A2: Python Exercises, Adan Gerardo Rodriguez Esparza, 1846081, N4"
      ],
      "metadata": {
        "id": "--_tB9dGKy-A"
      }
    },
    {
      "cell_type": "code",
      "source": [
        "# Greetings Script\n",
        "# function to greet\n",
        "def greetings(name):\n",
        "    print(f'Greetings, {name}')\n",
        "\n",
        "\n",
        "namein = input('What is your name?');\n",
        "# validate inputs\n",
        "upper = namein.upper()  # input to uppercase\n",
        "namews = upper.strip()  # removes whitespaces on both ends\n",
        "if namews == 'JOHN' or namews == 'PETER' or namews == 'ANA':\n",
        "    print()\n",
        "else:\n",
        "    greetings(namews.capitalize())\n",
        "    "
      ],
      "metadata": {
        "colab": {
          "base_uri": "https://localhost:8080/"
        },
        "id": "dpDLZiPGKx_e",
        "outputId": "6c6a4596-dce7-411b-ab3f-cb144f6c9666"
      },
      "execution_count": 4,
      "outputs": [
        {
          "output_type": "stream",
          "name": "stdout",
          "text": [
            "What is your name?JHin\n",
            "Greetings, Jhin\n"
          ]
        }
      ]
    },
    {
      "cell_type": "code",
      "source": [
        "#List Script\n",
        "lst = []\n",
        "# Ask for the size of the list(numbers only)\n",
        "n = 0\n",
        "while n == 0:\n",
        "    inpsize = input(\"Number of elements of the list(greater than 0) \")\n",
        "    try:\n",
        "        n = int(inpsize)\n",
        "    except ValueError:\n",
        "        print(\"Error, enter a numeric value(greater than 0) \")\n",
        "for i in range(0, n):\n",
        "    x = input('Elemento {}:'.format(i))\n",
        "    lst.append(x)\n",
        "print('Last element', lst[n - 1])\n",
        "lst.reverse()  # reverse the list\n",
        "print('Reversed list', lst)"
      ],
      "metadata": {
        "colab": {
          "base_uri": "https://localhost:8080/"
        },
        "id": "kheQWLTmLPid",
        "outputId": "94c82df6-4972-4a1f-a693-789d91bd6138"
      },
      "execution_count": 7,
      "outputs": [
        {
          "output_type": "stream",
          "name": "stdout",
          "text": [
            "Number of elements of the list(greater than 0) 0\n",
            "Number of elements of the list(greater than 0) 4\n",
            "Elemento 0:a\n",
            "Elemento 1:d\n",
            "Elemento 2:s\n",
            "Elemento 3:w\n",
            "Last element w\n",
            "Reversed list ['w', 's', 'd', 'a']\n"
          ]
        }
      ]
    },
    {
      "cell_type": "code",
      "source": [
        "# Rectangle print of a list\n",
        "lst = []\n",
        "# reusing list script code to get the input list\n",
        "# Ask for the size of the list(numbers only)\n",
        "n = 0\n",
        "while n == 0:\n",
        "    inpsize = input(\"Number of elements of the list(greater than 0) \")\n",
        "    try:\n",
        "        n = int(inpsize)\n",
        "    except ValueError:\n",
        "        print(\"Error, enter a numeric value(greater than 0) \")\n",
        "for i in range(0, n):\n",
        "    x = str(input('Elemento {}:'.format(i)))\n",
        "    lst.append(x)\n",
        "long = len(max(lst, key=len))  # Getting the length of the largest element in the list\n",
        "for i in range(0, (n + 2)):  # iterate from 0 up to n+2 which is the number of rows needed\n",
        "    if (i == 0) or (i == (n + 1)):  # first and last row filled with *\n",
        "        print('*' * (long + 2))  # number of columns long(largest element) + the * in both ends\n",
        "    else:\n",
        "        print('*' + lst[i - 1] + ' ' * (long - len(lst[i - 1])) + '*')\n",
        "        # fill w whitespaces the difference between largest element and current element"
      ],
      "metadata": {
        "colab": {
          "base_uri": "https://localhost:8080/"
        },
        "id": "GJt_oH5qhxRf",
        "outputId": "6482eec0-8fbe-40cb-8b08-acbde7afb21a"
      },
      "execution_count": 8,
      "outputs": [
        {
          "output_type": "stream",
          "name": "stdout",
          "text": [
            "Number of elements of the list(greater than 0) 4\n",
            "Elemento 0:IA\n",
            "Elemento 1:Neural net \n",
            "Elemento 2:Machine learning\n",
            "Elemento 3:UANL\n",
            "******************\n",
            "*IA              *\n",
            "*Neural net      *\n",
            "*Machine learning*\n",
            "*UANL            *\n",
            "******************\n"
          ]
        }
      ]
    }
  ]
}